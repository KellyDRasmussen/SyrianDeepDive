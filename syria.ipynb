{
 "cells": [
  {
   "cell_type": "markdown",
   "metadata": {},
   "source": [
    "# Syrian Data\n",
    "\n",
    "## Data sources\n",
    "\n",
    "### Young people\n",
    "FOLK1B total population age disagg: total population over time, split into age groups\n",
    "\n",
    "### Employment\n",
    "[Resident permits of Syrians with jobs](<data/DB_Udenlandsk arbejdskraft_Y24B_7.4.2025.xlsx>)\n",
    "DB_Udenlandsk arbejdskraft_Y24B_7.4.2025 (1).xlsx : What jobs they have\n",
    "health care.xlsx : which regions they are working education/health\n",
    "\n",
    "\n",
    "### Net migration over time\n",
    "data/VAN1AAR total immigrations.csv: immigrations in total 2007-2024\n",
    "data/VAN2AAR total emigrations: emigrations in total 2007-2024\n",
    "data/FOLK2 total pop: 1980-2024 population of Syrians\n",
    "data/DKSTAT nydanskere: Acquired Danish citizenship 1979-2024\n",
    "\n",
    "### Locations in DK\n",
    "VAN1AAR kommunes: immigrations to kommuner 2007-2024\n",
    "VAN2AAR kommunes: emigrations from kommuner 2007-2024\n",
    "\n",
    "\n",
    "### Asylum Applications\n",
    "VAN5RKAM"
   ]
  },
  {
   "cell_type": "markdown",
   "metadata": {},
   "source": [
    "Vague plan:\n",
    "\n",
    "(Show where they are!!), what jobs they're doing, how old their kids are, see if I can work out how many were born here, how many came as asylum seekers (not that I know how many were granted it), what the workers' immigration status is\n",
    "\n",
    "Show which jobs are shortage industries\n",
    "\n",
    "Show how their population changes over time\n",
    "\n"
   ]
  }
 ],
 "metadata": {
  "kernelspec": {
   "display_name": "Python 3",
   "language": "python",
   "name": "python3"
  },
  "language_info": {
   "codemirror_mode": {
    "name": "ipython",
    "version": 3
   },
   "file_extension": ".py",
   "mimetype": "text/x-python",
   "name": "python",
   "nbconvert_exporter": "python",
   "pygments_lexer": "ipython3",
   "version": "3.13.0"
  }
 },
 "nbformat": 4,
 "nbformat_minor": 2
}
